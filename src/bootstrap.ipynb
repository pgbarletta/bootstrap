{
 "cells": [
  {
   "cell_type": "code",
   "execution_count": 1,
   "metadata": {
    "collapsed": false
   },
   "outputs": [
    {
     "name": "stderr",
     "output_type": "stream",
     "text": [
      "WARNING: New definition \n",
      "    +(AbstractArray{T<:Any, 2}, WoodburyMatrices.SymWoodbury) at /home/german/.julia/v0.4/WoodburyMatrices/src/SymWoodburyMatrices.jl:106\n",
      "is ambiguous with: \n",
      "    +(DataArrays.DataArray, AbstractArray) at /home/german/.julia/v0.4/DataArrays/src/operators.jl:276.\n",
      "To fix, define \n",
      "    +(DataArrays.DataArray{T<:Any, 2}, WoodburyMatrices.SymWoodbury)\n",
      "before the new definition.\n",
      "WARNING: New definition \n",
      "    +(AbstractArray{T<:Any, 2}, WoodburyMatrices.SymWoodbury) at /home/german/.julia/v0.4/WoodburyMatrices/src/SymWoodburyMatrices.jl:106\n",
      "is ambiguous with: \n",
      "    +(DataArrays.AbstractDataArray, AbstractArray) at /home/german/.julia/v0.4/DataArrays/src/operators.jl:300.\n",
      "To fix, define \n",
      "    +(DataArrays.AbstractDataArray{T<:Any, 2}, WoodburyMatrices.SymWoodbury)\n",
      "before the new definition.\n"
     ]
    }
   ],
   "source": [
    "using StatsBase\n",
    "using DataFrames\n",
    "using Gadfly\n",
    "using Formatting"
   ]
  },
  {
   "cell_type": "code",
   "execution_count": 2,
   "metadata": {
    "collapsed": false
   },
   "outputs": [
    {
     "data": {
      "text/plain": [
       "tognm (generic function with 1 method)"
      ]
     },
     "execution_count": 2,
     "metadata": {},
     "output_type": "execute_result"
    }
   ],
   "source": [
    "function tognm(vtor_anm)\n",
    "    vtor_gnm = Array{Float64}(convert(Int64, length(vtor_anm)/3));\n",
    "    vtor_anm =  vtor_anm.^2\n",
    "    for i=1:convert(Int64, length(vtor_anm)/3)\n",
    "        vtor_gnm[i] = sqrt(vtor_anm[i*3-2] + vtor_anm[i*3-1] + vtor_anm[i*3])\n",
    "    end\n",
    "    return vtor_gnm\n",
    "end"
   ]
  },
  {
   "cell_type": "code",
   "execution_count": 3,
   "metadata": {
    "collapsed": false
   },
   "outputs": [
    {
     "data": {
      "text/plain": [
       "vtor_correl (generic function with 1 method)"
      ]
     },
     "execution_count": 3,
     "metadata": {},
     "output_type": "execute_result"
    }
   ],
   "source": [
    "function vtor_correl(vtor_input)\n",
    "    # Preparo variables\n",
    "    vtor_in = copy(vtor_input)\n",
    "    vtor_in_corr = Array{Float64}(1);\n",
    "    vtor_in_corr[1] = 5.0\n",
    "    marca = length(vtor_in)\n",
    "    \n",
    "    for i=1:marca\n",
    "        # Saco 2 vectores del vtor_input. A uno le saco el 1er elemento y a otro el último        \n",
    "        vtor_in_prev = copy(vtor_input[1:end-i])\n",
    "        shift!(vtor_in)\n",
    "        # Obtengo correlacion entre los 2 vtores (autocorrelacion del vtor original) y determino\n",
    "        # si es suficientemente alta como p/ seguir calculando correlacion\n",
    "        corr = corspearman(vtor_in_prev, vtor_in)\n",
    "        push!(vtor_in_corr, corr)\n",
    "        if corr < exp(-1)\n",
    "            marca = copy(i)\n",
    "            break\n",
    "        end\n",
    "    end\n",
    "    shift!(vtor_in_corr)\n",
    "    # Devuelvo la secuencia de correlaciones q tuve y el nro de elementos q pude sacar antes de\n",
    "    # q la correlación baje demasiado\n",
    "    return vtor_in_corr, marca\n",
    "end"
   ]
  },
  {
   "cell_type": "code",
   "execution_count": 4,
   "metadata": {
    "collapsed": false
   },
   "outputs": [
    {
     "data": {
      "text/plain": [
       "writeFortranMatrix (generic function with 1 method)"
      ]
     },
     "execution_count": 4,
     "metadata": {},
     "output_type": "execute_result"
    }
   ],
   "source": [
    "# Write a matrix in a FORTRAN-friendly format\n",
    "function writeFortranMatrix(mtx_filename, mtx_to_write)\n",
    "    mtx_io = open(mtx_filename, \"w\")\n",
    "    FORTRAN_format = FormatExpr(\"{1:< .4E} \")\n",
    "    FORTRAN_newline_format = FormatExpr(\"\\n\")\n",
    "\n",
    "    for i=1:size(mtx_to_write)[1]\n",
    "        for j=1:size(mtx_to_write)[2]\n",
    "            printfmt(mtx_io, FORTRAN_format, mtx_to_write[i,j])\n",
    "        end    \n",
    "        printfmt(mtx_io, FORTRAN_newline_format, \"\")\n",
    "    end\n",
    "end"
   ]
  },
  {
   "cell_type": "code",
   "execution_count": 20,
   "metadata": {
    "collapsed": false
   },
   "outputs": [],
   "source": [
    "# Tomo argumentos de consola\n",
    "modos_filename = \"/home/german/labo/16/bootstrap/sample_file\"\n",
    "out_boot_mtx_filename = \"mtx\"\n",
    "boot_mtx_num = \"2\"\n",
    "boot_mtx_num = parse(Int64, boot_mtx_num)\n",
    "# Leo la mtx de modos a bootstrappear\n",
    "modos = readdlm(modos_filename)\n",
    "# Preparo variables\n",
    "corr_mtx = zeros(modos)\n",
    "autocorr = Array{Int64}(size(modos)[2])\n",
    "boot_mtx = Array{Float64}(size(modos))\n",
    "\n",
    "# Obtengo la autocorrelación de los vectores de los modos\n",
    "for i=1:size(modos)[2]\n",
    "# Paso el vector ANM a GNM\n",
    "    gvec = tognm(modos[:, i])\n",
    "    vec_corr, autocorr[i] = vtor_correl(gvec)\n",
    "    corr_mtx[1:length(vec_corr), i] = vec_corr\n",
    "    \n",
    "end\n",
    "# Recorto la matriz con las autocorrelaciones \n",
    "corr_mtx = corr_mtx[1:maximum(autocorr), :]\n",
    "# El tamaño de los bloques está hecho p/ GNM, lo adaptop p/ ANM\n",
    "block = autocorr .* 3;\n",
    "# Número de bloques del tamaño correspondiente. C/ vector tiene otro bloque extra, ya q rara vez\n",
    "# son divisibles por el tamaño de bloque q le corresponde.\n",
    "n_block = convert(Array{Int64}, floor(size(modos)[1] ./ block))\n",
    "n_block = n_block .+ 1\n",
    "# Acá obtengo el resto q no queda cubierto por los bloques\n",
    "resto = size(modos)[1] .% block;"
   ]
  },
  {
   "cell_type": "code",
   "execution_count": 12,
   "metadata": {
    "collapsed": false
   },
   "outputs": [],
   "source": [
    "for mat=1:boot_mtx_num\n",
    "    out_boot_mtx_filename_current = string(out_boot_mtx_filename, \"_\", mat)    \n",
    "# Preparo variables\n",
    "rn = Array{Float64}(maximum(n_block))\n",
    "for i=1:size(modos)[2]\n",
    "# Array con los distintos bloques de este vector q voy a ir eligiendo aleatoriamente\n",
    "        sample = collect(1:n_block[i])\n",
    "# Inicializo los indices inferior y superior de los bloques de la nueva mtx bootstrappeada\n",
    "        boot_lower = 1\n",
    "        boot_upper = boot_lower + block[i] - 1\n",
    "\n",
    "        for j=1:n_block[i]\n",
    "# Obtengo aleatoriamente el nro de bloque de la columna i de la mtx ingresada q voy a poner en la columna i\n",
    "# de la mtx de bootstrap\n",
    "            rn[j] = rand(sample)\n",
    "            if rn[j] == n_block[i]\n",
    "# Si es el último bloque, tengo q hacer algo particular\n",
    "                orig_upper = size(modos)[1]\n",
    "                orig_lower = orig_upper - resto[i] + 1\n",
    "                boot_upper = boot_lower + resto[i] - 1\n",
    "\n",
    "                boot_mtx[boot_lower:boot_upper, i] = modos[orig_lower:orig_upper, i]\n",
    "    \n",
    "                boot_lower = boot_lower + resto[i]\n",
    "                boot_upper = boot_lower + block[i] - 1\n",
    "# Saco el bloque recién copiado de el array 'sample' p/ no volver a copiarlo\n",
    "                usado = find(x -> x==rn[j], sample)\n",
    "                deleteat!(sample, usado)\n",
    "                continue\n",
    "            end\n",
    "# Determino q bloque de la original se copia, lo copio y avanzo al proximo bloque de la bootstrap    \n",
    "            orig_upper = rn[j] * block[i]\n",
    "            orig_lower = orig_upper - block[i] + 1\n",
    "     \n",
    "            boot_mtx[boot_lower:boot_upper, i] = modos[orig_lower:orig_upper, i]\n",
    "    \n",
    "            boot_lower = boot_lower + block[i]\n",
    "            boot_upper = boot_lower + block[i] - 1\n",
    "\n",
    "# Saco el bloque recién copiado de el array 'sample' p/ no volver a copiarlo\n",
    "            usado = find(x -> x==rn[j], sample)\n",
    "            deleteat!(sample, usado);\n",
    "\n",
    "    end\n",
    "end\n",
    "    writeFortranMatrix(out_boot_mtx_filename_current, boot_mtx)    \n",
    "end"
   ]
  },
  {
   "cell_type": "code",
   "execution_count": null,
   "metadata": {
    "collapsed": true
   },
   "outputs": [],
   "source": [
    "writeFortranMatrix(corr_mtx)"
   ]
  }
 ],
 "metadata": {
  "anaconda-cloud": {},
  "kernelspec": {
   "display_name": "Julia 0.4.6",
   "language": "julia",
   "name": "julia-0.4"
  },
  "language_info": {
   "file_extension": ".jl",
   "mimetype": "application/julia",
   "name": "julia",
   "version": "0.4.6"
  }
 },
 "nbformat": 4,
 "nbformat_minor": 0
}
